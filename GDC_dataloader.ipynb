{
 "cells": [
  {
   "cell_type": "code",
   "execution_count": 15,
   "metadata": {},
   "outputs": [],
   "source": [
    "import numpy as np\n",
    "import pandas as pd\n",
    "import torch\n",
    "import os\n",
    "import matplotlib.pyplot as plt\n",
    "import torchvision.transforms as transforms\n",
    "import torch.nn as nn\n",
    "from torch.utils.data import DataLoader, Dataset, random_split\n",
    "from torchvision.models import swin_t, Swin_T_Weights\n",
    "from datasets import load_dataset\n",
    "from PIL import Image"
   ]
  },
  {
   "cell_type": "code",
   "execution_count": 35,
   "metadata": {},
   "outputs": [],
   "source": [
    "train_dir = '/GILMLab/GILMLabProjects/DeepLearning/deepquantification/data/GDCAtlas-Data/patches/train' \n",
    "test_dir = '/GILMLab/GILMLabProjects/DeepLearning/deepquantification/data/GDCAtlas-Data/patches/test'"
   ]
  },
  {
   "cell_type": "code",
   "execution_count": 28,
   "metadata": {},
   "outputs": [],
   "source": [
    "transform = transforms.Compose(\n",
    "    [transforms.ToTensor(),\n",
    "     transforms.Normalize((0.5, 0.5, 0.5), (0.5, 0.5, 0.5))])\n",
    "\n",
    "class GDC(Dataset):\n",
    "    def __init__(self, src_dir, transforms = None):\n",
    "        csv_dir = os.path.join(src_dir, 'metadata.csv')\n",
    "        df = pd.read_csv(csv_dir)\n",
    "        self.images = df['file_name'].values\n",
    "        self.labels = df['label'].values\n",
    "        self.transforms = transforms\n",
    "    \n",
    "    def __len__(self):\n",
    "        return len(self.labels)\n",
    "    \n",
    "    def __getitem__(self, idx):\n",
    "        img = self.images[idx]\n",
    "        image = Image.open(os.path.join(src_dir, img))\n",
    "        label = self.labels[idx]\n",
    "            \n",
    "        if self.transforms:\n",
    "            img_tensor = self.transforms(image)\n",
    "        else:\n",
    "            img_tensor = torch.from_numpy(np.float32(image)).unsqueeze(0)\n",
    "        return img_tensor, label"
   ]
  },
  {
   "cell_type": "code",
   "execution_count": 36,
   "metadata": {},
   "outputs": [],
   "source": [
    "train_dataset = GDC(train_dir, transform)\n",
    "train_dataloader = DataLoader(train_dataset, batch_size = 100, shuffle = True)\n",
    "test_dataset = GDC(test_dir, transform)\n",
    "test_dataloader = DataLoader(test_dataset, batch_size = 100, shuffle = True)"
   ]
  }
 ],
 "metadata": {
  "kernelspec": {
   "display_name": "pytorch",
   "language": "python",
   "name": "python3"
  },
  "language_info": {
   "codemirror_mode": {
    "name": "ipython",
    "version": 3
   },
   "file_extension": ".py",
   "mimetype": "text/x-python",
   "name": "python",
   "nbconvert_exporter": "python",
   "pygments_lexer": "ipython3",
   "version": "3.10.14"
  }
 },
 "nbformat": 4,
 "nbformat_minor": 2
}
